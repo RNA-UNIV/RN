{
 "cells": [
  {
   "cell_type": "markdown",
   "metadata": {
    "id": "JsXYDrEEgw2G"
   },
   "source": [
    "<div align=\"center\">\n",
    "  <hr>\n",
    "  <h1><strong>Repositorio RNA de Github</strong></h1>\n",
    " \n",
    "  <hr>\n",
    "</div>\n",
    "\n",
    "\n",
    "El repositorio para aprendizaje de redes neuronales está disponible de forma  pública en https://github.com/RNA-UNIV/rna\n",
    "\n",
    "El objetivo del repositorio es el de proveer funciones y clases con implementaciones básicas de algoritmos de redes neuronales, carga de datasets, carga de modelos y carga de ejemplos para pruebas y visualizciones.\n",
    "\n",
    "Se instala directamente desde el repositorio mediante **pip install git+https://github.com/RNA-UNIV/rna.git**. Esta instalación descarga los archivos python para trabajar y prepara las estructuras de carpetas para realizar descargas de recursos (datasets, modelos, archivos, etc.) bajo demanda. Estos son los módulos dentro del paquete rna donde se encuentran definidos clases y funciones para diferentes tareas:\n",
    "* **audio**: procesamiento de audio.\n",
    "* **callbacks**: callbacks para tensorflow.\n",
    "* **datos**: carga de recursos.\n",
    "* **fuentes**: clases con algoritmos de redes neuronales.\n",
    "* **imagenes**: procesamiento de imagenes."
   ]
  },
  {
   "cell_type": "code",
   "execution_count": 1,
   "metadata": {
    "colab": {
     "base_uri": "https://localhost:8080/"
    },
    "id": "k8Kdk6IEigdR",
    "outputId": "e8fb3a5e-36cd-4804-8b81-3592bad424b1"
   },
   "outputs": [
    {
     "name": "stdout",
     "output_type": "stream",
     "text": [
      "Collecting git+https://github.com/RNA-UNIV/rna.git\n",
      "  Cloning https://github.com/RNA-UNIV/rna.git to /tmp/pip-req-build-b6kldr0z\n",
      "  Running command git clone --filter=blob:none --quiet https://github.com/RNA-UNIV/rna.git /tmp/pip-req-build-b6kldr0z\n",
      "  Resolved https://github.com/RNA-UNIV/rna.git to commit 290723a66fcc3168ff971f9157d6949ff2b60e35\n",
      "  Preparing metadata (setup.py) ... \u001b[?25l\u001b[?25hdone\n"
     ]
    }
   ],
   "source": [
    "pip install git+https://github.com/RNA-UNIV/rna.git --upgrade"
   ]
  },
  {
   "cell_type": "markdown",
   "metadata": {
    "id": "sGG84rJqj7T2"
   },
   "source": [
    "# Uso de clase DataLoader para carga de recursos\n",
    "Esta clase tiene como objetivo la carga de recursos, principalmente datasets. Crea la carpeta de trabajo **rna_descargas** y subcarpetas para el almacenamiento bajo demanda de datasets, modelos y ejemplos puntuales para pruebas (imagenes, audios, etc.).\n",
    "\n",
    "## Carga de Modelos\n",
    "La clase **DataLoader** definida en **rna.datos** se encarga del manejo de todo lo asociado a la carga de datasets. Cada dataset se conoce con un nombre único. Algunas de las funciones que realiza son:\n",
    "* **list_datasets**: listas los datasets disponibles en el repositorio git.\n",
    "* **load_dataframe**: carga un dataset como dataframe.\n",
    "* **load_array**: carga un dataset como arreglo numpy.\n",
    "* **dataset_info**: ofrece información del dataset (nombre, descripción, autores, url de descarga, descripión breve de atributos, cantidad de ejemplos, etc.).\n",
    "* **dataset_directory**: directorio local donde se encuentra el dataset. Útil para realizar algun tipo de procesamiento para archivos individuales como audios e imágenes.\n",
    "\n",
    "En el repositorio git cada dataset tiene asociada una carpeta (nombre del dataset) y dentro de la carpeta se encuentra un archivo .csv o .zip con el dataset y un archivo adicional con la información del dataset (info.json). Estos archivos se descargan bajo demanda en la subcarpeta con el nombre del repositorio dentro de la carpeta **modelos** ."
   ]
  },
  {
   "cell_type": "markdown",
   "metadata": {
    "id": "Dmn76uvwnmAq"
   },
   "source": [
    "---\n",
    "#Ejemplos de Uso"
   ]
  },
  {
   "cell_type": "markdown",
   "metadata": {
    "id": "FRJIj7GxqTCP"
   },
   "source": [
    "### Listar datasets disponibles en el repositorio"
   ]
  },
  {
   "cell_type": "code",
   "execution_count": 2,
   "metadata": {
    "colab": {
     "base_uri": "https://localhost:8080/",
     "height": 298
    },
    "id": "mlvnfj2YbFKm",
    "outputId": "06b759df-68ed-4907-a35c-a023278fe884"
   },
   "outputs": [
    {
     "data": {
      "text/plain": [
       "['automobile',\n",
       " 'automobile_simple',\n",
       " 'drogas',\n",
       " 'drogas_test',\n",
       " 'drogas_train',\n",
       " 'eficiencia_energetica',\n",
       " 'frutas_test',\n",
       " 'frutas_train',\n",
       " 'hojas',\n",
       " 'iris',\n",
       " 'planta_energia',\n",
       " 'semillas',\n",
       " 'sonar',\n",
       " 'vinos',\n",
       " 'zoo']"
      ]
     },
     "metadata": {},
     "output_type": "display_data"
    }
   ],
   "source": [
    "from rna.datos import DataLoader\n",
    "\n",
    "display(DataLoader.list_datasets())"
   ]
  },
  {
   "cell_type": "markdown",
   "metadata": {
    "id": "bLgmfkYzraVV"
   },
   "source": [
    "### Carga de dataset \"iris\" como arreglo numpy"
   ]
  },
  {
   "cell_type": "code",
   "execution_count": 3,
   "metadata": {
    "colab": {
     "base_uri": "https://localhost:8080/",
     "height": 228
    },
    "id": "wTlJrUoFs_GV",
    "outputId": "a8046436-aeef-4a79-da6e-0b13246fb424"
   },
   "outputs": [
    {
     "data": {
      "text/plain": [
       "Index(['sepallength', 'sepalwidth', 'petallength', 'petalwidth', 'class'], dtype='object')"
      ]
     },
     "metadata": {},
     "output_type": "display_data"
    },
    {
     "data": {
      "text/plain": [
       "array([[5.1, 3.5, 1.4, 0.2, 'Iris-setosa'],\n",
       "       [4.9, 3.0, 1.4, 0.2, 'Iris-setosa'],\n",
       "       [4.7, 3.2, 1.3, 0.2, 'Iris-setosa'],\n",
       "       [4.6, 3.1, 1.5, 0.2, 'Iris-setosa'],\n",
       "       [5.0, 3.6, 1.4, 0.2, 'Iris-setosa'],\n",
       "       [5.4, 3.9, 1.7, 0.4, 'Iris-setosa'],\n",
       "       [4.6, 3.4, 1.4, 0.3, 'Iris-setosa'],\n",
       "       [5.0, 3.4, 1.5, 0.2, 'Iris-setosa'],\n",
       "       [4.4, 2.9, 1.4, 0.2, 'Iris-setosa'],\n",
       "       [4.9, 3.1, 1.5, 0.1, 'Iris-setosa']], dtype=object)"
      ]
     },
     "metadata": {},
     "output_type": "display_data"
    }
   ],
   "source": [
    "loader = DataLoader()\n",
    "(iris_cols, iris_array) = loader.load_array('iris')\n",
    "\n",
    "display(iris_cols)\n",
    "display(iris_array[0:10,:])"
   ]
  },
  {
   "cell_type": "code",
   "execution_count": 4,
   "metadata": {
    "colab": {
     "base_uri": "https://localhost:8080/",
     "height": 383
    },
    "id": "GliUGNmosqO5",
    "outputId": "b4f43cc8-02ea-4ac5-97dd-d23ab334fc70"
   },
   "outputs": [
    {
     "data": {
      "application/vnd.google.colaboratory.intrinsic+json": {
       "summary": "{\n  \"name\": \"display(iris_df\",\n  \"rows\": 10,\n  \"fields\": [\n    {\n      \"column\": \"sepallength\",\n      \"properties\": {\n        \"dtype\": \"number\",\n        \"std\": 0.29135697844549546,\n        \"min\": 4.4,\n        \"max\": 5.4,\n        \"num_unique_values\": 7,\n        \"samples\": [\n          5.1,\n          4.9,\n          5.4\n        ],\n        \"semantic_type\": \"\",\n        \"description\": \"\"\n      }\n    },\n    {\n      \"column\": \"sepalwidth\",\n      \"properties\": {\n        \"dtype\": \"number\",\n        \"std\": 0.30713731999438515,\n        \"min\": 2.9,\n        \"max\": 3.9,\n        \"num_unique_values\": 8,\n        \"samples\": [\n          3.0,\n          3.9,\n          3.5\n        ],\n        \"semantic_type\": \"\",\n        \"description\": \"\"\n      }\n    },\n    {\n      \"column\": \"petallength\",\n      \"properties\": {\n        \"dtype\": \"number\",\n        \"std\": 0.10801234497346433,\n        \"min\": 1.3,\n        \"max\": 1.7,\n        \"num_unique_values\": 4,\n        \"samples\": [\n          1.3,\n          1.7,\n          1.4\n        ],\n        \"semantic_type\": \"\",\n        \"description\": \"\"\n      }\n    },\n    {\n      \"column\": \"petalwidth\",\n      \"properties\": {\n        \"dtype\": \"number\",\n        \"std\": 0.07888106377466154,\n        \"min\": 0.1,\n        \"max\": 0.4,\n        \"num_unique_values\": 4,\n        \"samples\": [\n          0.4,\n          0.1,\n          0.2\n        ],\n        \"semantic_type\": \"\",\n        \"description\": \"\"\n      }\n    },\n    {\n      \"column\": \"class\",\n      \"properties\": {\n        \"dtype\": \"category\",\n        \"num_unique_values\": 1,\n        \"samples\": [\n          \"Iris-setosa\"\n        ],\n        \"semantic_type\": \"\",\n        \"description\": \"\"\n      }\n    }\n  ]\n}",
       "type": "dataframe"
      },
      "text/html": [
       "\n",
       "  <div id=\"df-d7c3a9f3-7399-4c93-8040-a64ba8a375a3\" class=\"colab-df-container\">\n",
       "    <div>\n",
       "<style scoped>\n",
       "    .dataframe tbody tr th:only-of-type {\n",
       "        vertical-align: middle;\n",
       "    }\n",
       "\n",
       "    .dataframe tbody tr th {\n",
       "        vertical-align: top;\n",
       "    }\n",
       "\n",
       "    .dataframe thead th {\n",
       "        text-align: right;\n",
       "    }\n",
       "</style>\n",
       "<table border=\"1\" class=\"dataframe\">\n",
       "  <thead>\n",
       "    <tr style=\"text-align: right;\">\n",
       "      <th></th>\n",
       "      <th>sepallength</th>\n",
       "      <th>sepalwidth</th>\n",
       "      <th>petallength</th>\n",
       "      <th>petalwidth</th>\n",
       "      <th>class</th>\n",
       "    </tr>\n",
       "  </thead>\n",
       "  <tbody>\n",
       "    <tr>\n",
       "      <th>0</th>\n",
       "      <td>5.1</td>\n",
       "      <td>3.5</td>\n",
       "      <td>1.4</td>\n",
       "      <td>0.2</td>\n",
       "      <td>Iris-setosa</td>\n",
       "    </tr>\n",
       "    <tr>\n",
       "      <th>1</th>\n",
       "      <td>4.9</td>\n",
       "      <td>3.0</td>\n",
       "      <td>1.4</td>\n",
       "      <td>0.2</td>\n",
       "      <td>Iris-setosa</td>\n",
       "    </tr>\n",
       "    <tr>\n",
       "      <th>2</th>\n",
       "      <td>4.7</td>\n",
       "      <td>3.2</td>\n",
       "      <td>1.3</td>\n",
       "      <td>0.2</td>\n",
       "      <td>Iris-setosa</td>\n",
       "    </tr>\n",
       "    <tr>\n",
       "      <th>3</th>\n",
       "      <td>4.6</td>\n",
       "      <td>3.1</td>\n",
       "      <td>1.5</td>\n",
       "      <td>0.2</td>\n",
       "      <td>Iris-setosa</td>\n",
       "    </tr>\n",
       "    <tr>\n",
       "      <th>4</th>\n",
       "      <td>5.0</td>\n",
       "      <td>3.6</td>\n",
       "      <td>1.4</td>\n",
       "      <td>0.2</td>\n",
       "      <td>Iris-setosa</td>\n",
       "    </tr>\n",
       "    <tr>\n",
       "      <th>5</th>\n",
       "      <td>5.4</td>\n",
       "      <td>3.9</td>\n",
       "      <td>1.7</td>\n",
       "      <td>0.4</td>\n",
       "      <td>Iris-setosa</td>\n",
       "    </tr>\n",
       "    <tr>\n",
       "      <th>6</th>\n",
       "      <td>4.6</td>\n",
       "      <td>3.4</td>\n",
       "      <td>1.4</td>\n",
       "      <td>0.3</td>\n",
       "      <td>Iris-setosa</td>\n",
       "    </tr>\n",
       "    <tr>\n",
       "      <th>7</th>\n",
       "      <td>5.0</td>\n",
       "      <td>3.4</td>\n",
       "      <td>1.5</td>\n",
       "      <td>0.2</td>\n",
       "      <td>Iris-setosa</td>\n",
       "    </tr>\n",
       "    <tr>\n",
       "      <th>8</th>\n",
       "      <td>4.4</td>\n",
       "      <td>2.9</td>\n",
       "      <td>1.4</td>\n",
       "      <td>0.2</td>\n",
       "      <td>Iris-setosa</td>\n",
       "    </tr>\n",
       "    <tr>\n",
       "      <th>9</th>\n",
       "      <td>4.9</td>\n",
       "      <td>3.1</td>\n",
       "      <td>1.5</td>\n",
       "      <td>0.1</td>\n",
       "      <td>Iris-setosa</td>\n",
       "    </tr>\n",
       "  </tbody>\n",
       "</table>\n",
       "</div>\n",
       "    <div class=\"colab-df-buttons\">\n",
       "\n",
       "  <div class=\"colab-df-container\">\n",
       "    <button class=\"colab-df-convert\" onclick=\"convertToInteractive('df-d7c3a9f3-7399-4c93-8040-a64ba8a375a3')\"\n",
       "            title=\"Convert this dataframe to an interactive table.\"\n",
       "            style=\"display:none;\">\n",
       "\n",
       "  <svg xmlns=\"http://www.w3.org/2000/svg\" height=\"24px\" viewBox=\"0 -960 960 960\">\n",
       "    <path d=\"M120-120v-720h720v720H120Zm60-500h600v-160H180v160Zm220 220h160v-160H400v160Zm0 220h160v-160H400v160ZM180-400h160v-160H180v160Zm440 0h160v-160H620v160ZM180-180h160v-160H180v160Zm440 0h160v-160H620v160Z\"/>\n",
       "  </svg>\n",
       "    </button>\n",
       "\n",
       "  <style>\n",
       "    .colab-df-container {\n",
       "      display:flex;\n",
       "      gap: 12px;\n",
       "    }\n",
       "\n",
       "    .colab-df-convert {\n",
       "      background-color: #E8F0FE;\n",
       "      border: none;\n",
       "      border-radius: 50%;\n",
       "      cursor: pointer;\n",
       "      display: none;\n",
       "      fill: #1967D2;\n",
       "      height: 32px;\n",
       "      padding: 0 0 0 0;\n",
       "      width: 32px;\n",
       "    }\n",
       "\n",
       "    .colab-df-convert:hover {\n",
       "      background-color: #E2EBFA;\n",
       "      box-shadow: 0px 1px 2px rgba(60, 64, 67, 0.3), 0px 1px 3px 1px rgba(60, 64, 67, 0.15);\n",
       "      fill: #174EA6;\n",
       "    }\n",
       "\n",
       "    .colab-df-buttons div {\n",
       "      margin-bottom: 4px;\n",
       "    }\n",
       "\n",
       "    [theme=dark] .colab-df-convert {\n",
       "      background-color: #3B4455;\n",
       "      fill: #D2E3FC;\n",
       "    }\n",
       "\n",
       "    [theme=dark] .colab-df-convert:hover {\n",
       "      background-color: #434B5C;\n",
       "      box-shadow: 0px 1px 3px 1px rgba(0, 0, 0, 0.15);\n",
       "      filter: drop-shadow(0px 1px 2px rgba(0, 0, 0, 0.3));\n",
       "      fill: #FFFFFF;\n",
       "    }\n",
       "  </style>\n",
       "\n",
       "    <script>\n",
       "      const buttonEl =\n",
       "        document.querySelector('#df-d7c3a9f3-7399-4c93-8040-a64ba8a375a3 button.colab-df-convert');\n",
       "      buttonEl.style.display =\n",
       "        google.colab.kernel.accessAllowed ? 'block' : 'none';\n",
       "\n",
       "      async function convertToInteractive(key) {\n",
       "        const element = document.querySelector('#df-d7c3a9f3-7399-4c93-8040-a64ba8a375a3');\n",
       "        const dataTable =\n",
       "          await google.colab.kernel.invokeFunction('convertToInteractive',\n",
       "                                                    [key], {});\n",
       "        if (!dataTable) return;\n",
       "\n",
       "        const docLinkHtml = 'Like what you see? Visit the ' +\n",
       "          '<a target=\"_blank\" href=https://colab.research.google.com/notebooks/data_table.ipynb>data table notebook</a>'\n",
       "          + ' to learn more about interactive tables.';\n",
       "        element.innerHTML = '';\n",
       "        dataTable['output_type'] = 'display_data';\n",
       "        await google.colab.output.renderOutput(dataTable, element);\n",
       "        const docLink = document.createElement('div');\n",
       "        docLink.innerHTML = docLinkHtml;\n",
       "        element.appendChild(docLink);\n",
       "      }\n",
       "    </script>\n",
       "  </div>\n",
       "\n",
       "\n",
       "<div id=\"df-544504d2-0934-4c6c-8a18-7725fc7584b9\">\n",
       "  <button class=\"colab-df-quickchart\" onclick=\"quickchart('df-544504d2-0934-4c6c-8a18-7725fc7584b9')\"\n",
       "            title=\"Suggest charts\"\n",
       "            style=\"display:none;\">\n",
       "\n",
       "<svg xmlns=\"http://www.w3.org/2000/svg\" height=\"24px\"viewBox=\"0 0 24 24\"\n",
       "     width=\"24px\">\n",
       "    <g>\n",
       "        <path d=\"M19 3H5c-1.1 0-2 .9-2 2v14c0 1.1.9 2 2 2h14c1.1 0 2-.9 2-2V5c0-1.1-.9-2-2-2zM9 17H7v-7h2v7zm4 0h-2V7h2v10zm4 0h-2v-4h2v4z\"/>\n",
       "    </g>\n",
       "</svg>\n",
       "  </button>\n",
       "\n",
       "<style>\n",
       "  .colab-df-quickchart {\n",
       "      --bg-color: #E8F0FE;\n",
       "      --fill-color: #1967D2;\n",
       "      --hover-bg-color: #E2EBFA;\n",
       "      --hover-fill-color: #174EA6;\n",
       "      --disabled-fill-color: #AAA;\n",
       "      --disabled-bg-color: #DDD;\n",
       "  }\n",
       "\n",
       "  [theme=dark] .colab-df-quickchart {\n",
       "      --bg-color: #3B4455;\n",
       "      --fill-color: #D2E3FC;\n",
       "      --hover-bg-color: #434B5C;\n",
       "      --hover-fill-color: #FFFFFF;\n",
       "      --disabled-bg-color: #3B4455;\n",
       "      --disabled-fill-color: #666;\n",
       "  }\n",
       "\n",
       "  .colab-df-quickchart {\n",
       "    background-color: var(--bg-color);\n",
       "    border: none;\n",
       "    border-radius: 50%;\n",
       "    cursor: pointer;\n",
       "    display: none;\n",
       "    fill: var(--fill-color);\n",
       "    height: 32px;\n",
       "    padding: 0;\n",
       "    width: 32px;\n",
       "  }\n",
       "\n",
       "  .colab-df-quickchart:hover {\n",
       "    background-color: var(--hover-bg-color);\n",
       "    box-shadow: 0 1px 2px rgba(60, 64, 67, 0.3), 0 1px 3px 1px rgba(60, 64, 67, 0.15);\n",
       "    fill: var(--button-hover-fill-color);\n",
       "  }\n",
       "\n",
       "  .colab-df-quickchart-complete:disabled,\n",
       "  .colab-df-quickchart-complete:disabled:hover {\n",
       "    background-color: var(--disabled-bg-color);\n",
       "    fill: var(--disabled-fill-color);\n",
       "    box-shadow: none;\n",
       "  }\n",
       "\n",
       "  .colab-df-spinner {\n",
       "    border: 2px solid var(--fill-color);\n",
       "    border-color: transparent;\n",
       "    border-bottom-color: var(--fill-color);\n",
       "    animation:\n",
       "      spin 1s steps(1) infinite;\n",
       "  }\n",
       "\n",
       "  @keyframes spin {\n",
       "    0% {\n",
       "      border-color: transparent;\n",
       "      border-bottom-color: var(--fill-color);\n",
       "      border-left-color: var(--fill-color);\n",
       "    }\n",
       "    20% {\n",
       "      border-color: transparent;\n",
       "      border-left-color: var(--fill-color);\n",
       "      border-top-color: var(--fill-color);\n",
       "    }\n",
       "    30% {\n",
       "      border-color: transparent;\n",
       "      border-left-color: var(--fill-color);\n",
       "      border-top-color: var(--fill-color);\n",
       "      border-right-color: var(--fill-color);\n",
       "    }\n",
       "    40% {\n",
       "      border-color: transparent;\n",
       "      border-right-color: var(--fill-color);\n",
       "      border-top-color: var(--fill-color);\n",
       "    }\n",
       "    60% {\n",
       "      border-color: transparent;\n",
       "      border-right-color: var(--fill-color);\n",
       "    }\n",
       "    80% {\n",
       "      border-color: transparent;\n",
       "      border-right-color: var(--fill-color);\n",
       "      border-bottom-color: var(--fill-color);\n",
       "    }\n",
       "    90% {\n",
       "      border-color: transparent;\n",
       "      border-bottom-color: var(--fill-color);\n",
       "    }\n",
       "  }\n",
       "</style>\n",
       "\n",
       "  <script>\n",
       "    async function quickchart(key) {\n",
       "      const quickchartButtonEl =\n",
       "        document.querySelector('#' + key + ' button');\n",
       "      quickchartButtonEl.disabled = true;  // To prevent multiple clicks.\n",
       "      quickchartButtonEl.classList.add('colab-df-spinner');\n",
       "      try {\n",
       "        const charts = await google.colab.kernel.invokeFunction(\n",
       "            'suggestCharts', [key], {});\n",
       "      } catch (error) {\n",
       "        console.error('Error during call to suggestCharts:', error);\n",
       "      }\n",
       "      quickchartButtonEl.classList.remove('colab-df-spinner');\n",
       "      quickchartButtonEl.classList.add('colab-df-quickchart-complete');\n",
       "    }\n",
       "    (() => {\n",
       "      let quickchartButtonEl =\n",
       "        document.querySelector('#df-544504d2-0934-4c6c-8a18-7725fc7584b9 button');\n",
       "      quickchartButtonEl.style.display =\n",
       "        google.colab.kernel.accessAllowed ? 'block' : 'none';\n",
       "    })();\n",
       "  </script>\n",
       "</div>\n",
       "\n",
       "    </div>\n",
       "  </div>\n"
      ],
      "text/plain": [
       "   sepallength  sepalwidth  petallength  petalwidth        class\n",
       "0          5.1         3.5          1.4         0.2  Iris-setosa\n",
       "1          4.9         3.0          1.4         0.2  Iris-setosa\n",
       "2          4.7         3.2          1.3         0.2  Iris-setosa\n",
       "3          4.6         3.1          1.5         0.2  Iris-setosa\n",
       "4          5.0         3.6          1.4         0.2  Iris-setosa\n",
       "5          5.4         3.9          1.7         0.4  Iris-setosa\n",
       "6          4.6         3.4          1.4         0.3  Iris-setosa\n",
       "7          5.0         3.4          1.5         0.2  Iris-setosa\n",
       "8          4.4         2.9          1.4         0.2  Iris-setosa\n",
       "9          4.9         3.1          1.5         0.1  Iris-setosa"
      ]
     },
     "metadata": {},
     "output_type": "display_data"
    }
   ],
   "source": [
    "### Carga de dataset \"iris\" como dataframe Pandas\n",
    "iris_df = loader.load_dataframe('iris')\n",
    "\n",
    "display(iris_df.head(10))"
   ]
  },
  {
   "cell_type": "markdown",
   "metadata": {
    "id": "b3ShR4ryggzB"
   },
   "source": [
    "# Información del dataset Iris"
   ]
  },
  {
   "cell_type": "code",
   "execution_count": 5,
   "metadata": {
    "colab": {
     "base_uri": "https://localhost:8080/",
     "height": 298
    },
    "id": "RI5P1TVpgsIJ",
    "outputId": "754565e4-ac76-4890-e58b-3f041f121e71"
   },
   "outputs": [
    {
     "data": {
      "text/plain": [
       "{'nombre': 'Iris',\n",
       " 'descripcion': 'El conjunto de datos contiene 3 clases de 50 instancias cada una, donde cada clase se refiere a un tipo de planta Iris. Una clase es linealmente separable de las otras dos; las últimas no son linealmente separables entre sí.',\n",
       " 'autor': 'R.A. Fisher',\n",
       " 'url': 'https://archive.ics.uci.edu/ml/datasets/iris',\n",
       " 'muestras': 150,\n",
       " 'atributos': {'sepal_length': 'Longitud del sépalo en cm',\n",
       "  'sepal_width': 'Ancho del sépalo en cm',\n",
       "  'petal_length': 'Longitud del pétalo en cm',\n",
       "  'petal_width': 'Ancho del pétalo en cm',\n",
       "  'class': 'Clase de Iris (Iris Setosa, Iris Versicolour, Iris Virginica)'},\n",
       " 'clases': 3,\n",
       " 'faltantes': 'No'}"
      ]
     },
     "metadata": {},
     "output_type": "display_data"
    },
    {
     "name": "stdout",
     "output_type": "stream",
     "text": [
      "\n",
      "Carpeta de Iris: /content/rna_descargas/datos/iris\n"
     ]
    }
   ],
   "source": [
    "display(loader.dataset_info('iris'))\n",
    "print('\\nCarpeta de Iris: '+ loader.dataset_directory('iris'))"
   ]
  },
  {
   "cell_type": "markdown",
   "metadata": {
    "id": "bucQLswihRN_"
   },
   "source": [
    "# Ejemplo de Uso de Claes RNMulticlase\n",
    "\n"
   ]
  },
  {
   "cell_type": "code",
   "execution_count": 6,
   "metadata": {
    "colab": {
     "base_uri": "https://localhost:8080/",
     "height": 509
    },
    "id": "z-ZwvD1_hwTK",
    "outputId": "970b7594-f78b-43c0-e189-4fe2977fced5"
   },
   "outputs": [
    {
     "name": "stdout",
     "output_type": "stream",
     "text": [
      "0.6866666666666666\n"
     ]
    },
    {
     "data": {
      "image/png": "[encoded data removed]",
      "text/plain": [
       "<Figure size 640x480 with 1 Axes>"
      ]
     },
     "metadata": {},
     "output_type": "display_data"
    }
   ],
   "source": [
    "import pandas as pd\n",
    "import numpy as np\n",
    "import matplotlib.pyplot as plt\n",
    "from rna.fuentes import RNMulticlase\n",
    "from rna.datos import DataLoader\n",
    "\n",
    "# Cargar el DataFrame de iris\n",
    "loader = DataLoader()\n",
    "iris_df = loader.load_dataframe('iris')\n",
    "\n",
    "# Preparar los datos de entrada y salida\n",
    "x_train = iris_df.iloc[:, 0:4].values\n",
    "y_train = pd.get_dummies(iris_df['class']).values * 1\n",
    "\n",
    "# Crear y entrenar el modelo\n",
    "modelo = RNMulticlase(n_iter=1000, alpha=0.01)\n",
    "\n",
    "modelo.fit(x_train, y_train)\n",
    "\n",
    "# prediccion para valores de entrenamiento\n",
    "y_pred = modelo.predict(x_train)\n",
    "\n",
    "# clase predicha\n",
    "y_true = np.argmax(y_train, axis=1)\n",
    "\n",
    "print( (y_pred==y_true).sum()/len(y_train) )\n",
    "\n",
    "# Graficar el error durante el entrenamiento\n",
    "plt.plot(modelo.errors_)\n",
    "plt.title('Error durante el entrenamiento')\n",
    "plt.xlabel('Iteraciones')\n",
    "plt.ylabel('Error')\n",
    "plt.show()\n"
   ]
  }
 ],
 "metadata": {
  "colab": {
   "provenance": []
  },
  "kernelspec": {
   "display_name": "Python 3 (ipykernel)",
   "language": "python",
   "name": "python3"
  },
  "language_info": {
   "codemirror_mode": {
    "name": "ipython",
    "version": 3
   },
   "file_extension": ".py",
   "mimetype": "text/x-python",
   "name": "python",
   "nbconvert_exporter": "python",
   "pygments_lexer": "ipython3",
   "version": "3.9.16"
  },
  "varInspector": {
   "cols": {
    "lenName": "16",
    "lenType": "16",
    "lenVar": "50"
   },
   "kernels_config": {
    "python": {
     "delete_cmd_postfix": "",
     "delete_cmd_prefix": "del ",
     "library": "var_list.py",
     "varRefreshCmd": "print(var_dic_list())"
    },
    "r": {
     "delete_cmd_postfix": ") ",
     "delete_cmd_prefix": "rm(",
     "library": "var_list.r",
     "varRefreshCmd": "cat(var_dic_list()) "
    }
   },
   "types_to_exclude": [
    "module",
    "function",
    "builtin_function_or_method",
    "instance",
    "_Feature"
   ],
   "window_display": false
  }
 },
 "nbformat": 4,
 "nbformat_minor": 1
}
